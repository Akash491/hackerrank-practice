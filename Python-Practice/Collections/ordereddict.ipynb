{
 "cells": [
  {
   "cell_type": "markdown",
   "metadata": {},
   "source": [
    "##### collections.OrderedDict\n",
    "###### An OrderedDict is a dictionary that remembers the order of the keys that were inserted first. If a new entry overwrites an existing entry, the original insertion position is left unchanged.\n",
    "\n",
    "###### Example\n",
    "\n",
    "###### Code\n",
    "\n",
    "###### >>> from collections import OrderedDict\n",
    "###### >>> \n",
    "###### >>> ordinary_dictionary = {}\n",
    "###### >>> ordinary_dictionary['a'] = 1\n",
    "###### >>> ordinary_dictionary['b'] = 2\n",
    "###### >>> ordinary_dictionary['c'] = 3\n",
    "###### >>> ordinary_dictionary['d'] = 4\n",
    "###### >>> ordinary_dictionary['e'] = 5\n",
    "###### >>> \n",
    "###### >>> print ordinary_dictionary\n",
    "###### {'a': 1, 'c': 3, 'b': 2, 'e': 5, 'd': 4}\n",
    "###### >>> \n",
    "###### >>> ordered_dictionary = OrderedDict()\n",
    "###### >>> ordered_dictionary['a'] = 1\n",
    "###### >>> ordered_dictionary['b'] = 2\n",
    "###### >>> ordered_dictionary['c'] = 3\n",
    "###### >>> ordered_dictionary['d'] = 4\n",
    "###### >>> ordered_dictionary['e'] = 5\n",
    "###### >>> \n",
    "###### >>> print ordered_dictionary\n",
    "###### OrderedDict([('a', 1), ('b', 2), ('c', 3), ('d', 4), ('e', 5)])\n",
    "##### Task\n",
    "\n",
    "###### You are the manager of a supermarket.\n",
    "###### You have a list of N items together with their prices that consumers bought on a particular day.\n",
    "###### Your task is to print each item_name and net_price in order of its first occurrence.\n",
    "\n",
    "###### item_name = Name of the item.\n",
    "###### net_price = Quantity of the item sold multiplied by the price of each item.\n",
    "\n",
    "##### Input Format\n",
    "\n",
    "###### The first line contains the number of items, N.\n",
    "###### The next N lines contains the item's name and price, separated by a space.\n",
    "\n",
    "###### Constraints\n",
    "###### 0 < N <= 100\n",
    "\n",
    "##### Output Format\n",
    "\n",
    "###### Print the item_name and net_price in order of its first occurrence.\n",
    "\n",
    "###### Sample Input\n",
    "\n",
    "###### 9\n",
    "###### BANANA FRIES 12\n",
    "###### POTATO CHIPS 30\n",
    "###### APPLE JUICE 10\n",
    "###### CANDY 5\n",
    "###### APPLE JUICE 10\n",
    "###### CANDY 5\n",
    "###### CANDY 5\n",
    "###### CANDY 5\n",
    "###### POTATO CHIPS 30\n",
    "###### Sample Output\n",
    "\n",
    "###### BANANA FRIES 12\n",
    "###### POTATO CHIPS 60\n",
    "###### APPLE JUICE 20\n",
    "###### CANDY 20\n",
    "###### Explanation\n",
    "\n",
    "###### BANANA FRIES: Quantity bought: 1, Price: 12 \n",
    "###### Net Price: 12\n",
    "###### POTATO CHIPS: Quantity bought: 2, Price: 30\n",
    "###### Net Price: 60\n",
    "###### APPLE JUICE: Quantity bought: 2, Price: 10\n",
    "###### Net Price: 20\n",
    "###### CANDY: Quantity bought: 4, Price: 5\n",
    "###### Net Price: 20"
   ]
  },
  {
   "cell_type": "code",
   "execution_count": 2,
   "metadata": {},
   "outputs": [
    {
     "name": "stdout",
     "output_type": "stream",
     "text": [
      "BANANA FRIES 12\n",
      "POTATO CHIPS 60\n",
      "APPLE JUICE 20\n",
      "CANDY 20\n"
     ]
    }
   ],
   "source": [
    "from collections import OrderedDict\n",
    "N = int(input())\n",
    "sales = OrderedDict()\n",
    "for i in range(N):\n",
    "    sale = input().split()\n",
    "    if sale[1].isdigit() and sales.get(sale[0]) == None:\n",
    "        sales[sale[0]] = int(sale[1])\n",
    "    elif sale[1].isdigit() and sales.get(sale[0]) != None:\n",
    "        sales[sale[0]] += int(sale[1])\n",
    "    elif sale[1].isdigit() == False and sales.get(sale[0]+\" \"+sale[1]) == None:\n",
    "        sales[sale[0]+\" \"+sale[1]] = int(sale[2])\n",
    "    elif sale[1].isdigit() == False and sales.get(sale[0]+\" \"+sale[1]) != None:\n",
    "        sales[sale[0]+\" \"+sale[1]] += int(sale[2])\n",
    "for k,v in sales.items():\n",
    "    print(k,v)"
   ]
  }
 ],
 "metadata": {
  "kernelspec": {
   "display_name": "Python 3.9.5 64-bit",
   "language": "python",
   "name": "python3"
  },
  "language_info": {
   "codemirror_mode": {
    "name": "ipython",
    "version": 3
   },
   "file_extension": ".py",
   "mimetype": "text/x-python",
   "name": "python",
   "nbconvert_exporter": "python",
   "pygments_lexer": "ipython3",
   "version": "3.9.5"
  },
  "orig_nbformat": 4,
  "vscode": {
   "interpreter": {
    "hash": "f1a136053d7b5206c1152a19952caf4b5d6cfda0f7a9c917652b493eb5cba126"
   }
  }
 },
 "nbformat": 4,
 "nbformat_minor": 2
}
