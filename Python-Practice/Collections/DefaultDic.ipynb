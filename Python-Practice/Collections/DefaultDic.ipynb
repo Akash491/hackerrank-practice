{
 "cells": [
  {
   "cell_type": "markdown",
   "metadata": {},
   "source": [
    "###### The defaultdict tool is a container in the collections class of Python. It's similar to the usual dictionary (dict) container, but the only difference is that a defaultdict will have a default value if that key has not been set yet. If you didn't use a defaultdict you'd have to check to see if that key exists, and if it doesn't, set it to what you want.\n",
    "###### For example:\n",
    "\n",
    "###### from collections import defaultdict\n",
    "###### d = defaultdict(list)\n",
    "###### d['python'].append(\"awesome\")\n",
    "###### d['something-else'].append(\"not relevant\")\n",
    "###### d['python'].append(\"language\")\n",
    "###### for i in d.items():\n",
    "######     print i\n",
    "###### This prints:\n",
    "\n",
    "###### ('python', ['awesome', 'language'])\n",
    "###### ('something-else', ['not relevant'])\n",
    "###### In this challenge, you will be given 2 integers, n and m. There are n words, which might repeat, in word group A. There are m words belonging to word group B. For each m words, check whether the word has appeared in group A or not. Print the indices of each occurrence of m in group A. If it does not appear, print -1.\n",
    "\n",
    "##### Example\n",
    "\n",
    "###### Group A contains 'a', 'b', 'a' Group B contains 'a', 'c'\n",
    "\n",
    "###### For the first word in group B, 'a', it appears at positions 1 and 3 in group A. The second word, 'c', does not appear in group A, so print -1.\n",
    "\n",
    "###### Expected output:\n",
    "\n",
    "###### 1 3\n",
    "###### -1\n",
    "##### Input Format\n",
    "\n",
    "###### The first line contains integers,n and m separated by a space.\n",
    "###### The next n lines contains the words belonging to group A.\n",
    "###### The next m lines contains the words belonging to group B.\n",
    "\n",
    "###### Constraints\n",
    "###### 1 <= n <= 10000\n",
    "###### 1 <= m <= 100\n",
    "###### 1 <= length of each word in the input <= 100\n",
    "\n",
    "##### Output Format\n",
    "\n",
    "##### Output m lines.\n",
    "###### The ith line should contain the 1-indexed positions of the occurrences of the ith word separated by spaces.\n",
    "\n",
    "##### Sample Input\n",
    "\n",
    "##### STDIN   Function\n",
    "###### -----   --------\n",
    "###### 5 2     group A size n = 5, group B size m = 2\n",
    "###### a       group A contains 'a', 'a', 'b', 'a', 'b'\n",
    "###### a\n",
    "###### b\n",
    "###### a\n",
    "###### b\n",
    "###### a       group B contains 'a', 'b'\n",
    "###### b\n",
    "##### Sample Output\n",
    "\n",
    "###### 1 2 4\n",
    "###### 3 5\n",
    "##### Explanation\n",
    "\n",
    "###### 'a' appeared 3 times in positions 1, 2 and 4.\n",
    "###### 'b' appeared 2 times in positions 3 and 5.\n",
    "###### In the sample problem, if 'c' also appeared in word group B, you would print -1."
   ]
  },
  {
   "cell_type": "code",
   "execution_count": 3,
   "metadata": {},
   "outputs": [
    {
     "name": "stdout",
     "output_type": "stream",
     "text": [
      "1 3 \n",
      "-1 \n"
     ]
    }
   ],
   "source": [
    "from collections import defaultdict\n",
    "m_n = list(map(int,input().split()))\n",
    "m = m_n[0]\n",
    "n = m_n[1]\n",
    "a = defaultdict(list)\n",
    "b = defaultdict(list)\n",
    "for i in range(m):\n",
    "    a['A'].append(input())\n",
    "for i in range(n):\n",
    "    b['B'].append(input())\n",
    "a = dict(a)\n",
    "b = dict(b)\n",
    "for v in b['B']:\n",
    "    cnt = 0\n",
    "    for i, x in enumerate(a['A']):\n",
    "        if x == v:\n",
    "            print(i+1,end=' ')\n",
    "            cnt += 1\n",
    "    if cnt == 0:\n",
    "        print(-1,end=' ')\n",
    "    print('')"
   ]
  }
 ],
 "metadata": {
  "kernelspec": {
   "display_name": "Python 3.9.5 64-bit",
   "language": "python",
   "name": "python3"
  },
  "language_info": {
   "codemirror_mode": {
    "name": "ipython",
    "version": 3
   },
   "file_extension": ".py",
   "mimetype": "text/x-python",
   "name": "python",
   "nbconvert_exporter": "python",
   "pygments_lexer": "ipython3",
   "version": "3.9.5"
  },
  "orig_nbformat": 4,
  "vscode": {
   "interpreter": {
    "hash": "f1a136053d7b5206c1152a19952caf4b5d6cfda0f7a9c917652b493eb5cba126"
   }
  }
 },
 "nbformat": 4,
 "nbformat_minor": 2
}
