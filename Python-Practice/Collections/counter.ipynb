{
 "cells": [
  {
   "cell_type": "markdown",
   "metadata": {},
   "source": [
    "##### collections.Counter()\n",
    "###### A counter is a container that stores elements as dictionary keys, and their counts are stored as dictionary values.\n",
    "\n",
    "##### Sample Code\n",
    "\n",
    "###### >>> from collections import Counter\n",
    "###### >>> \n",
    "###### >>> myList = [1,1,2,3,4,5,3,2,3,4,2,1,2,3]\n",
    "###### >>> print Counter(myList)\n",
    "###### Counter({2: 4, 3: 4, 1: 3, 4: 2, 5: 1})\n",
    "###### >>>\n",
    "###### >>> print Counter(myList).items()\n",
    "###### [(1, 3), (2, 4), (3, 4), (4, 2), (5, 1)]\n",
    "###### >>> \n",
    "###### >>> print Counter(myList).keys()\n",
    "###### [1, 2, 3, 4, 5]\n",
    "###### >>> \n",
    "###### >>> print Counter(myList).values()\n",
    "###### [3, 4, 4, 2, 1]\n",
    "\n",
    "##### Task\n",
    "\n",
    "###### Raghu is a shoe shop owner. His shop has X number of shoes.\n",
    "###### He has a list containing the size of each shoe he has in his shop.\n",
    "###### There are N number of customers who are willing to pay xi amount of money only if they get the shoe of their desired size.\n",
    "\n",
    "###### Your task is to compute how much money Raghu earned.\n",
    "\n",
    "##### Input Format\n",
    "\n",
    "###### The first line contains X, the number of shoes.\n",
    "###### The second line contains the space separated list of all the shoe sizes in the shop.\n",
    "###### The third line contains N, the number of customers.\n",
    "###### The next N lines contain the space separated values of the shoe size desired by the customer and xi, the price of the shoe.\n",
    "\n",
    "##### Constraints\n",
    "###### 0 < X < 10^3\n",
    "###### 0 < N <= 10^3\n",
    "###### 20 < xi < 100\n",
    "###### 2 < shoe size < 20\n",
    "\n",
    "##### Output Format\n",
    "\n",
    "###### Print the amount of money earned by Raghu.\n",
    "\n",
    "##### Sample Input\n",
    "\n",
    "###### 10\n",
    "###### 2 3 4 5 6 8 7 6 5 18\n",
    "###### 6\n",
    "###### 6 55\n",
    "###### 6 45\n",
    "###### 6 55\n",
    "###### 4 40\n",
    "###### 18 60\n",
    "###### 10 50\n",
    "##### Sample Output\n",
    "\n",
    "###### 200\n",
    "##### Explanation\n",
    "\n",
    "###### Customer 1: Purchased size 6 shoe for $55.\n",
    "###### Customer 2: Purchased size 6 shoe for $45.\n",
    "###### Customer 3: Size 6 no longer available, so no purchase.\n",
    "###### Customer 4: Purchased size 4 shoe for $40.\n",
    "###### Customer 5: Purchased size 18 shoe for $60.\n",
    "###### Customer 6: Size 10 not available, so no purchase.\n",
    "\n",
    "###### Total money earned = 55+45+40+60 = $200"
   ]
  },
  {
   "cell_type": "code",
   "execution_count": 1,
   "metadata": {},
   "outputs": [
    {
     "name": "stdout",
     "output_type": "stream",
     "text": [
      "200\n"
     ]
    }
   ],
   "source": [
    "from collections import Counter\n",
    "X = int(input())\n",
    "shoe_size_list = list(map(int,input().split()))\n",
    "N = int(input())\n",
    "amount = 0\n",
    "shoe_size_and_quantity_mapping = Counter(shoe_size_list)\n",
    "dict_shoe_size_and_quantity_mapping = dict(shoe_size_and_quantity_mapping)\n",
    "for i in range(0,N):\n",
    "    order = list(map(int,input().split()))\n",
    "    size = order[0]\n",
    "    price = order[1]\n",
    "    if dict_shoe_size_and_quantity_mapping.get(size) == None:\n",
    "        amount += 0\n",
    "    elif dict_shoe_size_and_quantity_mapping.get(size) > 0:\n",
    "        amount += price\n",
    "        dict_shoe_size_and_quantity_mapping[size] = dict_shoe_size_and_quantity_mapping.get(size) - 1\n",
    "print(amount)"
   ]
  }
 ],
 "metadata": {
  "kernelspec": {
   "display_name": "Python 3.9.5 64-bit",
   "language": "python",
   "name": "python3"
  },
  "language_info": {
   "codemirror_mode": {
    "name": "ipython",
    "version": 3
   },
   "file_extension": ".py",
   "mimetype": "text/x-python",
   "name": "python",
   "nbconvert_exporter": "python",
   "pygments_lexer": "ipython3",
   "version": "3.9.5"
  },
  "orig_nbformat": 4,
  "vscode": {
   "interpreter": {
    "hash": "f1a136053d7b5206c1152a19952caf4b5d6cfda0f7a9c917652b493eb5cba126"
   }
  }
 },
 "nbformat": 4,
 "nbformat_minor": 2
}
