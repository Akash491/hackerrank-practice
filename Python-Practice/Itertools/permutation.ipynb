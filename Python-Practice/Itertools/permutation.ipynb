{
 "cells": [
  {
   "cell_type": "markdown",
   "metadata": {},
   "source": [
    "##### This tool returns successive r length permutations of elements in an iterable.\n",
    "\n",
    "###### If r is not specified or is None, then r defaults to the length of the iterable, and all possible full length permutations are generated.\n",
    "\n",
    "###### Permutations are printed in a lexicographic sorted order. So, if the input iterable is sorted, the permutation tuples will be produced in a sorted order.\n",
    "\n",
    "##### Sample Code\n",
    "\n",
    "###### >>> from itertools import permutations\n",
    "###### >>> print permutations(['1','2','3'])\n",
    "###### <itertools.permutations object at 0x02A45210>\n",
    "###### >>> \n",
    "###### >>> print list(permutations(['1','2','3']))\n",
    "###### [('1', '2', '3'), ('1', '3', '2'), ('2', '1', '3'), ('2', '3', '1'), ('3', '1', '2'), ('3', '2', '1')]\n",
    "###### >>> \n",
    "###### >>> print list(permutations(['1','2','3'],2))\n",
    "###### [('1', '2'), ('1', '3'), ('2', '1'), ('2', '3'), ('3', '1'), ('3', '2')]\n",
    "###### >>>\n",
    "###### >>> print list(permutations('abc',3))\n",
    "###### [('a', 'b', 'c'), ('a', 'c', 'b'), ('b', 'a', 'c'), ('b', 'c', 'a'), \n",
    "\n",
    "##### Task\n",
    "\n",
    "###### You are given a string S.\n",
    "###### Your task is to print all possible permutations of size  of the string in lexicographic sorted order.\n",
    "\n",
    "###### Input Format\n",
    "\n",
    "###### A single line containing the space separated string S and the integer value k.\n",
    "\n",
    "###### Constraints\n",
    "\n",
    "###### 0 < k <= len(S)\n",
    "\n",
    "###### The string contains only UPPERCASE characters.\n",
    "\n",
    "###### Output Format\n",
    "\n",
    "###### Print the permutations of the string  on separate lines.\n",
    "\n",
    "###### Sample Input\n",
    "\n",
    "###### HACK 2\n",
    "###### Sample Output\n",
    "\n",
    "###### AC\n",
    "###### AH\n",
    "###### AK\n",
    "###### CA\n",
    "###### CH\n",
    "###### CK\n",
    "###### HA\n",
    "###### HC\n",
    "###### HK\n",
    "###### KA\n",
    "###### KC\n",
    "###### KH\n",
    "###### Explanation\n",
    "\n",
    "###### All possible size 2 permutations of the string \"HACK\" are printed in lexicographic sorted order."
   ]
  },
  {
   "cell_type": "code",
   "execution_count": 4,
   "metadata": {},
   "outputs": [
    {
     "name": "stdout",
     "output_type": "stream",
     "text": [
      "AC\n",
      "AH\n",
      "AK\n",
      "CA\n",
      "CH\n",
      "CK\n",
      "HA\n",
      "HC\n",
      "HK\n",
      "KA\n",
      "KC\n",
      "KH\n"
     ]
    }
   ],
   "source": [
    "from itertools import permutations\n",
    "S,k = input().split()\n",
    "k = int(k)\n",
    "\n",
    "for i in sorted(list(permutations(S,k))):\n",
    "    print(\"\".join(i))"
   ]
  }
 ],
 "metadata": {
  "kernelspec": {
   "display_name": "Python 3.9.5 64-bit",
   "language": "python",
   "name": "python3"
  },
  "language_info": {
   "codemirror_mode": {
    "name": "ipython",
    "version": 3
   },
   "file_extension": ".py",
   "mimetype": "text/x-python",
   "name": "python",
   "nbconvert_exporter": "python",
   "pygments_lexer": "ipython3",
   "version": "3.9.5"
  },
  "orig_nbformat": 4,
  "vscode": {
   "interpreter": {
    "hash": "f1a136053d7b5206c1152a19952caf4b5d6cfda0f7a9c917652b493eb5cba126"
   }
  }
 },
 "nbformat": 4,
 "nbformat_minor": 2
}
