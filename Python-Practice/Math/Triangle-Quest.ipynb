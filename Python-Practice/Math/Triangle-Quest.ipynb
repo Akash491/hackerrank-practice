{
 "cells": [
  {
   "cell_type": "markdown",
   "metadata": {},
   "source": [
    "##### You are given a positive integer N. Print a numerical triangle of height N-1 like the one below:\n",
    "\n",
    "###### 1\n",
    "###### 22\n",
    "###### 333\n",
    "###### 4444\n",
    "###### 55555\n",
    "###### ......\n",
    "###### Can you do it using only arithmetic operations, a single for loop and print statement?\n",
    "\n",
    "###### Use no more than two lines. The first line (the for statement) is already written for you. You have to complete the print statement.\n",
    "\n",
    "###### Note: Using anything related to strings will give a score of 0.\n",
    "\n",
    "###### Input Format\n",
    "###### A single line containing integer, N.\n",
    "\n",
    "###### Constraints\n",
    "1 <= N <= 9\n",
    "###### Output Format\n",
    "###### Print N-1 lines as explained above.\n",
    "\n",
    "##### Sample Input\n",
    "\n",
    "###### 5\n",
    "##### Sample Output\n",
    "\n",
    "###### 1\n",
    "###### 22\n",
    "###### 333"
   ]
  },
  {
   "cell_type": "code",
   "execution_count": 1,
   "metadata": {},
   "outputs": [
    {
     "name": "stdout",
     "output_type": "stream",
     "text": [
      "1\n",
      "22\n",
      "333\n",
      "4444\n"
     ]
    }
   ],
   "source": [
    "for i in range(1,int(input())):\n",
    "    print(((111111111)//(pow(10,(9-i))))*i)"
   ]
  }
 ],
 "metadata": {
  "kernelspec": {
   "display_name": "Python 3.9.5 64-bit",
   "language": "python",
   "name": "python3"
  },
  "language_info": {
   "codemirror_mode": {
    "name": "ipython",
    "version": 3
   },
   "file_extension": ".py",
   "mimetype": "text/x-python",
   "name": "python",
   "nbconvert_exporter": "python",
   "pygments_lexer": "ipython3",
   "version": "3.9.5"
  },
  "orig_nbformat": 4,
  "vscode": {
   "interpreter": {
    "hash": "f1a136053d7b5206c1152a19952caf4b5d6cfda0f7a9c917652b493eb5cba126"
   }
  }
 },
 "nbformat": 4,
 "nbformat_minor": 2
}
