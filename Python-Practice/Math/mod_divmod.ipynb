{
 "cells": [
  {
   "cell_type": "markdown",
   "metadata": {},
   "source": [
    "### Mod Divmod\n",
    "***\n",
    "##### One of the built-in functions of Python is divmod, which takes two arguments a and b and returns a tuple containing the quotient of a/b first and then the remainder a.\n",
    "###### For example:\n",
    "###### >>> print divmod(177,10)\n",
    "###### (17, 7)\n",
    "##### Here, the integer division is 177/10 => 17 and the modulo operator is 177%10 => 7.\n",
    "\n",
    "##### Task\n",
    "###### Read in two integers,a and b, and print three lines.\n",
    "###### The first line is the integer division a//b (While using Python2 remember to import division from __future__).\n",
    "###### The second line is the result of the modulo operator: .\n",
    "###### The third line prints the divmod of a and b.\n",
    "\n",
    "##### Input Format\n",
    "###### The first line contains the first integer, a, and the second line contains the second integer,b.\n",
    "\n",
    "##### Output Format\n",
    "###### Print the result as described above.\n",
    "\n",
    "##### Sample Input\n",
    "\n",
    "###### 177\n",
    "###### 10\n",
    "##### Sample Output\n",
    "\n",
    "###### 17\n",
    "###### 7\n",
    "###### (17, 7)"
   ]
  },
  {
   "cell_type": "code",
   "execution_count": 3,
   "metadata": {},
   "outputs": [
    {
     "name": "stdout",
     "output_type": "stream",
     "text": [
      "17\n",
      "7\n",
      "(17, 7)\n"
     ]
    }
   ],
   "source": [
    "a = int(input())\n",
    "b= int(input())\n",
    "\n",
    "print(a//b)\n",
    "print(a%b)\n",
    "print(divmod(a,b))"
   ]
  }
 ],
 "metadata": {
  "kernelspec": {
   "display_name": "Python 3.9.5 64-bit",
   "language": "python",
   "name": "python3"
  },
  "language_info": {
   "codemirror_mode": {
    "name": "ipython",
    "version": 3
   },
   "file_extension": ".py",
   "mimetype": "text/x-python",
   "name": "python",
   "nbconvert_exporter": "python",
   "pygments_lexer": "ipython3",
   "version": "3.9.5"
  },
  "orig_nbformat": 4,
  "vscode": {
   "interpreter": {
    "hash": "f1a136053d7b5206c1152a19952caf4b5d6cfda0f7a9c917652b493eb5cba126"
   }
  }
 },
 "nbformat": 4,
 "nbformat_minor": 2
}
